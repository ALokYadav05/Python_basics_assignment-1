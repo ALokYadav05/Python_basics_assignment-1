{
 "cells": [
  {
   "cell_type": "markdown",
   "metadata": {
    "id": "3zzuM1crmIrN"
   },
   "source": [
    "#Q-1) Explain the key features of Python that make it a popular choice for programming\n",
    "\n",
    "Ans) Python is a popular programming language for many reason:-\n",
    "\n",
    "->  Easy syntax:-\n",
    "    python is very easy to learn because of its very easy syntax as compared to any other programming language.So it is very easy to graps the concept using python.\n",
    "\n",
    "-> object-oriented:-\n",
    "    Python is object-oriented programming language that means we can create class and objects and it also have advanced OOPS concepts like inhertiance,\n",
    "    polymorphism,Abstraction,Encapsulation.\n",
    "\n",
    "\n",
    "->  versatile:-\n",
    "     python is versatile that means it can be use for backend , frontend and even for developing application, so we can  say that it is general purpose language.\n",
    "\n",
    "-> open source:-\n",
    "   It is open source means we can use python for free , we do not have to take any premium for using it.\n",
    "\n",
    "-> Python also have many different libraries for different purposes such as\n",
    "   * Numpy\n",
    "   * Pandas\n",
    "   * Matplotlib\n",
    "   * Sea-born\n",
    "   * Ski-kit\n",
    "\n",
    "   and many others.\n",
    "\n"
   ]
  },
  {
   "cell_type": "markdown",
   "metadata": {
    "id": "LvPVGQ22mRHQ"
   },
   "source": []
  },
  {
   "cell_type": "markdown",
   "metadata": {
    "id": "qtQpFTMJp99G"
   },
   "source": [
    "Q-2) Describe the role of predefined keywords in Python and provide examples of how they are used in a program.\n",
    "\n",
    "Ans)  In programming pre-defined keywords means that the compiler already knowns what to do if any particular word is written.And they cannot use as variable name.\n",
    "\n",
    "-> some pre-defined keywords are:-\n",
    "  * print\n",
    "  * input\n",
    "  * class\n",
    "  * return\n",
    "  * def\n",
    "  * for\n",
    "  * while\n",
    "  * If\n",
    "  * elif\n",
    "  * True\n",
    "  * False\n",
    "  * try\n",
    "  * import\n",
    "  * Break\n",
    "\n",
    "-> so this are the some of pre-defined keywords in python\n",
    "and there are many more.\n",
    "\n",
    "-> Some Examples of pre-defined keywords are:-\n",
    "\n",
    "break:-\n",
    "It is use to exit a loop or a switch-case\n",
    "\n",
    "IF:-\n",
    "It is use to check a condition.If it is True then block of code inside IF will run otherwise not.\n",
    "\n",
    "import:-\n",
    "It is use to import module or library into current program\n",
    "\n",
    "print:-\n",
    "use to print anything\n",
    "\n",
    "input:-\n",
    "It is use to take inputs\n",
    "\n",
    "return:-\n",
    "It is use to return a value from any given function\n",
    "\n",
    "Eg:-"
   ]
  },
  {
   "cell_type": "code",
   "execution_count": null,
   "metadata": {
    "id": "9j5jxOOXvyA6"
   },
   "outputs": [],
   "source": [
    "x = 10\n",
    "if x > 8:\n",
    "    print(\"x is greater than 8\")\n",
    "elif x == 8:\n",
    "    print(\"x is equal to 8\")\n",
    "else:\n",
    "    print(\"x is less than 8\")\n"
   ]
  },
  {
   "cell_type": "markdown",
   "metadata": {
    "id": "uuXEXrAeu1Qs"
   },
   "source": [
    "Q-3) Compare and contrast mutable and immutable objects in Python with examples.\n",
    "\n",
    "Ans) In python object are of two types\n",
    "\n",
    " * Mutable\n",
    " * Immutable\n",
    "\n",
    " -> mutable:- mutable means the object which can be modified or change after creation are known as mutable object.\n",
    "\n",
    " -> mutable objects in python are List and Dictionary.\n",
    "\n",
    " -> Therefore, after modifying currecnt object it will not create new object in memory else it will manipulate existing one.\n",
    "\n",
    "\n",
    "Example:"
   ]
  },
  {
   "cell_type": "code",
   "execution_count": 1,
   "metadata": {
    "colab": {
     "base_uri": "https://localhost:8080/"
    },
    "id": "UTFviIJEyQMF",
    "outputId": "26e50d9e-b277-4c55-d854-e0f67473332a"
   },
   "outputs": [
    {
     "name": "stdout",
     "output_type": "stream",
     "text": [
      "[5, 3, 2, 1]\n",
      "Modified list: [5, 3, 2, 1, 4]\n"
     ]
    }
   ],
   "source": [
    "my_list = [5,3,2,1]\n",
    "print(my_list)\n",
    "\n",
    "\n",
    "my_list.append(4)  # Modifies the existing list\n",
    "print(\"Modified list:\", my_list)"
   ]
  },
  {
   "cell_type": "markdown",
   "metadata": {
    "id": "RAMVbuKdyuUw"
   },
   "source": [
    "-> Immutable :-\n",
    "   Imutable object means we can not modify or changed object after creating it on same object reference.\n",
    "  -> Therefore, new object will be made after modifying the original object leaving the original object unchanged.\n",
    "\n",
    "  Examples:-"
   ]
  },
  {
   "cell_type": "code",
   "execution_count": 4,
   "metadata": {
    "colab": {
     "base_uri": "https://localhost:8080/"
    },
    "id": "uUt7hbBS0bIw",
    "outputId": "b8ead349-f914-47ed-ad4c-a25193974c40"
   },
   "outputs": [
    {
     "name": "stdout",
     "output_type": "stream",
     "text": [
      "Alok\n",
      "Modified string:Alok Yadav\n"
     ]
    }
   ],
   "source": [
    "\n",
    "my_str= \"Alok\"\n",
    "print(my_str)\n",
    "\n",
    "my_str = my_str + \" Yadav\"  # Creates a new string object\n",
    "print(\"Modified string:\"+ my_str)\n"
   ]
  },
  {
   "cell_type": "markdown",
   "metadata": {
    "id": "KBkU39L81FCc"
   },
   "source": [
    "Q-4)  Discuss the different types of operators in Python and provide examples of\n",
    "    how they are used.\n",
    "\n",
    "Ans)  Operators are used to perform certain operation on values according to the needs.\n",
    "\n",
    "-> In python, there are different types of operators such as:-\n",
    "\n",
    "* Arithmetic operator\n",
    "* Logical operator\n",
    "* Assignment operator\n",
    "* Comparison operator\n",
    "* Bitwise operator\n",
    "* Identity operator\n",
    "* Membership operator\n",
    "\n",
    "-> Arithmetic operator :-\n",
    "   \n",
    "   Arithmetic operator is used to perform operation between two or more values\n",
    "   such as:-\n",
    "   addition,subtraction,multiplication,divison,floor-division, modulus and exponential operations.\n",
    "\n",
    "   Example :"
   ]
  },
  {
   "cell_type": "code",
   "execution_count": 5,
   "metadata": {
    "colab": {
     "base_uri": "https://localhost:8080/"
    },
    "id": "ZxRe5USm3Ppk",
    "outputId": "bc92545b-23b7-400c-bec4-086a98b4c4f0"
   },
   "outputs": [
    {
     "name": "stdout",
     "output_type": "stream",
     "text": [
      "Addition: 13\n",
      "Division: 3.3333333333333335\n",
      "Multiplication 30\n",
      "Floor Division: 3\n",
      "Exponentiation: 1000\n"
     ]
    }
   ],
   "source": [
    "a = 10\n",
    "b = 3\n",
    "print(\"Addition:\", a + b)\n",
    "print(\"Division:\", a / b)\n",
    "print(\"Multiplication\", a * b)\n",
    "print(\"Floor Division:\", a // b)\n",
    "print(\"Exponentiation:\", a ** b)\n"
   ]
  },
  {
   "cell_type": "markdown",
   "metadata": {
    "id": "J18iF63R3rPJ"
   },
   "source": [
    "-> Logical operator :-\n",
    "\n",
    "It is use in conditional statement they are AND ,OR and NOT\n",
    "\n",
    "Example :"
   ]
  },
  {
   "cell_type": "code",
   "execution_count": 6,
   "metadata": {
    "colab": {
     "base_uri": "https://localhost:8080/"
    },
    "id": "dtjTAr4O4sJw",
    "outputId": "d2f00333-0abf-4512-e123-f63358e92312"
   },
   "outputs": [
    {
     "name": "stdout",
     "output_type": "stream",
     "text": [
      "False\n",
      "True\n",
      "False\n"
     ]
    }
   ],
   "source": [
    "var_1 = True\n",
    "var_2 = False\n",
    "print(var_1 and var_2)\n",
    "print(var_1 or var_2)\n",
    "print(not var_1)\n"
   ]
  },
  {
   "cell_type": "markdown",
   "metadata": {
    "id": "WGB0_ED05K78"
   },
   "source": [
    "-> Comparison operator :-\n",
    "\n",
    "comparison operator are used to compare two values or variables.\n",
    "\n",
    "-> ==  equals to,\n",
    "   !=  not equals to,\n",
    "   <   less then,\n",
    "   >   greater then,\n",
    "   >=  greater then equal to,\n",
    "   <=  less then equal to,\n",
    "\n",
    "   this all are comparison operator\n",
    "\n",
    "Example :\n"
   ]
  },
  {
   "cell_type": "code",
   "execution_count": 7,
   "metadata": {
    "colab": {
     "base_uri": "https://localhost:8080/"
    },
    "id": "ZCLCWibg5e0f",
    "outputId": "4388a318-f659-4576-bdbc-e375e68c33de"
   },
   "outputs": [
    {
     "name": "stdout",
     "output_type": "stream",
     "text": [
      "Is a not equal to b? True\n",
      "Is a greater than b? False\n"
     ]
    }
   ],
   "source": [
    "a = 7\n",
    "b = 10\n",
    "print(\"Is a not equal to b?\", a != b)\n",
    "print(\"Is a greater than b?\", a > b)"
   ]
  },
  {
   "cell_type": "markdown",
   "metadata": {
    "id": "EMkFIpjw60Nq"
   },
   "source": [
    "`-> Assignment operator :-\n",
    "  \n",
    "  This operator is use to assign value to a variable.\n",
    "\n",
    "  -> = , += , -= , *= this all are the example of assignment operator.\n"
   ]
  },
  {
   "cell_type": "code",
   "execution_count": 8,
   "metadata": {
    "colab": {
     "base_uri": "https://localhost:8080/"
    },
    "id": "tp03oKkP7aJd",
    "outputId": "17296f93-71d9-487d-ce62-10246cdf33f5"
   },
   "outputs": [
    {
     "name": "stdout",
     "output_type": "stream",
     "text": [
      "Updated x: 15\n"
     ]
    }
   ],
   "source": [
    "x = 5\n",
    "x *= 3\n",
    "print(\"Updated x:\", x)"
   ]
  },
  {
   "cell_type": "markdown",
   "metadata": {
    "id": "KJLi1VBT7rpQ"
   },
   "source": [
    "This all are the example of different type of operator."
   ]
  },
  {
   "cell_type": "markdown",
   "metadata": {
    "id": "mq-XOE8B76ya"
   },
   "source": [
    "Q-5)  Explain the concept of type casting in Python with examples.\n",
    "\n",
    "Ans) In python, type casting means changing data-type of a particular variable to another data-type is known as Type casting.\n",
    "\n",
    "-> There are two types of type casting in python\n",
    "* Implicit type casting\n",
    "* Explicit type casting\n",
    "\n",
    "-> Implicit type casting means the compiler itself changes the data-type from one to another according to the needs.\n",
    "\n",
    "Example of implicit type casting  :"
   ]
  },
  {
   "cell_type": "code",
   "execution_count": 9,
   "metadata": {
    "colab": {
     "base_uri": "https://localhost:8080/"
    },
    "id": "NquvqAOgAcb1",
    "outputId": "3f979e9e-8bda-4562-df9f-f94554cea229"
   },
   "outputs": [
    {
     "name": "stdout",
     "output_type": "stream",
     "text": [
      "7.5\n",
      "<class 'float'>\n"
     ]
    }
   ],
   "source": [
    "num1 = 5\n",
    "num2 = 2.5\n",
    "\n",
    "result = num1 + num2\n",
    "print(result)\n",
    "print(type(result))\n"
   ]
  },
  {
   "cell_type": "markdown",
   "metadata": {
    "id": "zQexCr8xAx0Q"
   },
   "source": [
    "->  Explicit type casting  :-\n",
    "\n",
    "Explicit type casting means programmer by himself manually changes the data-type from one to another is known as Explicit type casting.\n",
    "\n",
    "-> Some common Explicit type casting funcions are :-\n",
    "\n",
    " int( )  Converts a value to an integer,\n",
    "float () Converts a value to a float,\n",
    "str( ) Converts a value to a string,\n",
    "list( )  Converts a value to a list,\n",
    "tuple( ) Converts a value to a tuple,"
   ]
  },
  {
   "cell_type": "code",
   "execution_count": 10,
   "metadata": {
    "colab": {
     "base_uri": "https://localhost:8080/"
    },
    "id": "Xpxh_KhwB2mY",
    "outputId": "eb5b23a1-3c21-47d9-9532-f45b3b21ea02"
   },
   "outputs": [
    {
     "name": "stdout",
     "output_type": "stream",
     "text": [
      "100\n",
      "<class 'str'>\n"
     ]
    }
   ],
   "source": [
    "num = 100\n",
    "\n",
    "num_str = str(num)\n",
    "\n",
    "print(num_str)\n",
    "print(type(num_str))\n"
   ]
  },
  {
   "cell_type": "markdown",
   "metadata": {
    "id": "yLSavV8zCgtl"
   },
   "source": [
    "Q-6)  How do conditional statements work in Python? Illustrate with examples.\n",
    "\n",
    "Ans) conditional statement is use to run the block of code on the basics of that particular condition is true or not.\n",
    "\n",
    "-> In python, there are three type of conditional statement\n",
    "* if\n",
    "* if-else\n",
    "* if-elif-else\n",
    "\n",
    "-> IF the condition is true the block of code that is written in IF block that will be run as the condition is true or elif part of block would run.\n",
    "\n",
    "\n",
    "-> If statement :-\n",
    "\n",
    "\n",
    "\n"
   ]
  },
  {
   "cell_type": "code",
   "execution_count": 13,
   "metadata": {
    "colab": {
     "base_uri": "https://localhost:8080/"
    },
    "id": "yby4qvrdFQD6",
    "outputId": "698b7608-f2b3-4c6c-9db0-6ae38638b8d7"
   },
   "outputs": [
    {
     "name": "stdout",
     "output_type": "stream",
     "text": [
      "You are an adult.\n"
     ]
    }
   ],
   "source": [
    "age = 20\n",
    "if age >= 18:\n",
    "    print(\"You are an adult.\")\n"
   ]
  },
  {
   "cell_type": "markdown",
   "metadata": {
    "id": "pipTmpTeFUva"
   },
   "source": [
    "\n",
    "->  If-else statement :-\n",
    "\n",
    "if the IF condition is true it will run IF block otherwise it will run else part if the condition is false.\n",
    "\n",
    "Example :-\n"
   ]
  },
  {
   "cell_type": "code",
   "execution_count": 12,
   "metadata": {
    "colab": {
     "base_uri": "https://localhost:8080/"
    },
    "id": "K4DkCAzhFuyv",
    "outputId": "c9cc3eda-c3e4-41d3-ff94-333351b16907"
   },
   "outputs": [
    {
     "name": "stdout",
     "output_type": "stream",
     "text": [
      "You cannot vote!\n"
     ]
    }
   ],
   "source": [
    "age = 15\n",
    "if age > 18 :\n",
    "    print(\"You are eglible to vote.\")\n",
    "else:\n",
    "    print(\"You cannot vote!\")\n"
   ]
  },
  {
   "cell_type": "markdown",
   "metadata": {
    "id": "Dj71Rs6GGEeh"
   },
   "source": [
    "\n",
    "-> if-elif-else\n",
    "\n",
    "The if-elif-else statement is used when you need to check multiple conditions.\n",
    "\n",
    "Example :"
   ]
  },
  {
   "cell_type": "code",
   "execution_count": 11,
   "metadata": {
    "colab": {
     "base_uri": "https://localhost:8080/"
    },
    "id": "H12Zm8nbGXKL",
    "outputId": "abb74d72-9578-4a34-e299-3b70808b9974"
   },
   "outputs": [
    {
     "name": "stdout",
     "output_type": "stream",
     "text": [
      "Enter a number: 69\n",
      "The number is positive.\n"
     ]
    }
   ],
   "source": [
    "number = int(input(\"Enter a number: \"))\n",
    "\n",
    "if number > 0:\n",
    "    print(\"The number is positive.\")\n",
    "elif number == 0:\n",
    "    print(\"The number is zero.\")\n",
    "else:\n",
    "    print(\"The number is negative.\")\n"
   ]
  },
  {
   "cell_type": "markdown",
   "metadata": {
    "id": "LKjsuyaPGl79"
   },
   "source": [
    "\n",
    "Q-7)  Describe the different types of loops in Python and their use cases with\n",
    "      examples\n",
    "\n",
    "Ans)  IF we have to do same work for multiple times we can use loops in python.\n",
    "\n",
    "->  There are different types of loops in python such as while loop and for loop.\n",
    "\n",
    "-> If the users known how many times the loop should run then FOR loop should be used.\n",
    "\n",
    "-> If the users don`t known how many times the loop should run then, while loop would be consider because it runs as long as condition is TRUE.\n",
    "\n",
    "-> syntax of While-loop:-\n",
    "\n",
    "  while(condition):\n",
    "  {\n",
    "     // statement\n",
    "  }\n",
    "\n",
    "\n",
    "-> syntax of FOR-loop:-\n",
    "\n",
    " for var_name in range(start,stop,step)\n",
    " {\n",
    "  // statements\n",
    "\n",
    " }\n",
    "\n",
    "\n",
    " Example of while-loop :-"
   ]
  },
  {
   "cell_type": "code",
   "execution_count": 17,
   "metadata": {
    "colab": {
     "base_uri": "https://localhost:8080/"
    },
    "id": "SA78c9HMJFAj",
    "outputId": "04364a97-c63b-4ec1-efc6-01ebce52bc98"
   },
   "outputs": [
    {
     "name": "stdout",
     "output_type": "stream",
     "text": [
      "1\n",
      "2\n",
      "3\n",
      "4\n",
      "5\n",
      "6\n",
      "7\n",
      "8\n",
      "9\n",
      "10\n",
      "11\n",
      "12\n",
      "13\n",
      "14\n",
      "15\n"
     ]
    }
   ],
   "source": [
    "# Example: Printing numbers from 1 to 15 using a while loop\n",
    "count = 1\n",
    "\n",
    "while count <= 15:\n",
    "    print(count)\n",
    "    count += 1\n"
   ]
  },
  {
   "cell_type": "markdown",
   "metadata": {
    "id": "ReDrGNryJnIl"
   },
   "source": [
    "\n",
    "\n",
    "Example of FOR-loop :-"
   ]
  },
  {
   "cell_type": "code",
   "execution_count": 18,
   "metadata": {
    "colab": {
     "base_uri": "https://localhost:8080/"
    },
    "id": "JUpzSLZUJrI1",
    "outputId": "9d2be9ea-cf5b-4633-c524-adcfcae0b37d"
   },
   "outputs": [
    {
     "name": "stdout",
     "output_type": "stream",
     "text": [
      "Apple\n",
      "Banana\n",
      "Mango\n"
     ]
    }
   ],
   "source": [
    "# Example: Iterating over a list and printing each item\n",
    "fruits = ['Apple', 'Banana', 'Mango']\n",
    "\n",
    "for fruit in fruits:\n",
    "    print(fruit)\n"
   ]
  }
 ],
 "metadata": {
  "colab": {
   "provenance": []
  },
  "kernelspec": {
   "display_name": "Python 3",
   "name": "python3"
  },
  "language_info": {
   "name": "python"
  }
 },
 "nbformat": 4,
 "nbformat_minor": 0
}
