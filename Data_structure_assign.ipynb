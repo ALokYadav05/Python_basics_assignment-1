{
  "nbformat": 4,
  "nbformat_minor": 0,
  "metadata": {
    "colab": {
      "provenance": []
    },
    "kernelspec": {
      "name": "python3",
      "display_name": "Python 3"
    },
    "language_info": {
      "name": "python"
    }
  },
  "cells": [
    {
      "cell_type": "code",
      "execution_count": null,
      "metadata": {
        "id": "dyQWU0cf9KkG"
      },
      "outputs": [],
      "source": []
    },
    {
      "cell_type": "markdown",
      "source": [
        "#Q-1) Discuss string slicing and provide examples.\n",
        "\n",
        "Ans)\n",
        "  String slicing is a technique in programming that allows you to extract a portion of a string by specifying a start and an end index.\n",
        "  \n",
        "  -> It is a powerful feature in many programming languages, including Python.\n",
        "\n",
        "  -> start: The index where the slice starts . If omitted, it defaults to 0.\n",
        "\n",
        "  -> end: The index where the slice ends. If omitted, it defaults to the length\n",
        "     of the string.\n",
        "     \n",
        "  -> step: The step size (optional). It defines the increment between each  \n",
        "     index in the slice. If omitted, it defaults to 1."
      ],
      "metadata": {
        "id": "NS5lZHnX9Zqt"
      }
    },
    {
      "cell_type": "code",
      "source": [
        "string = \"Hello, World!\"\n",
        "print(string[0:5])\n"
      ],
      "metadata": {
        "colab": {
          "base_uri": "https://localhost:8080/"
        },
        "id": "UYP5ofHm981S",
        "outputId": "87b1627f-6db9-49c8-d66a-5639e8927839"
      },
      "execution_count": null,
      "outputs": [
        {
          "output_type": "stream",
          "name": "stdout",
          "text": [
            "Hello\n"
          ]
        }
      ]
    },
    {
      "cell_type": "markdown",
      "source": [
        " * following key points in string :-\n",
        "\n",
        "-> String slicing does not modify the original string (strings are immutable).\n",
        "\n",
        "-> It can be used with both positive and negative indices.\n",
        "\n",
        "-> If the start index is greater than the end index, the result will be an empty string."
      ],
      "metadata": {
        "id": "zWyuZFDd-SNM"
      }
    },
    {
      "cell_type": "code",
      "source": [
        "text = \"Hello, World!\"\n",
        "print(text[::-1])\n"
      ],
      "metadata": {
        "colab": {
          "base_uri": "https://localhost:8080/"
        },
        "id": "zFPTZDKF-0Gx",
        "outputId": "dd08f0b5-0a11-4344-f85f-000f882af26d"
      },
      "execution_count": null,
      "outputs": [
        {
          "output_type": "stream",
          "name": "stdout",
          "text": [
            "!dlroW ,olleH\n"
          ]
        }
      ]
    },
    {
      "cell_type": "markdown",
      "source": [
        "# Q-2 Explain the key features of lists in Python.\n",
        "\n",
        "Ans)lists are a versatile and powerful data structure that allows you to store\n",
        "    an ordered collection of items. Lists are mutable, meaning you can modify them after they are created. Here are the key features of lists in Python.\n",
        "\n",
        "-> 1. Ordered:-\n",
        "    The elements in a list are ordered, meaning they maintain the order in which they were added.\n",
        "    You can access elements using their index (starting from 0).     \n"
      ],
      "metadata": {
        "id": "asRWSsXo-3TZ"
      }
    },
    {
      "cell_type": "code",
      "source": [
        "my_list = [10, 20, 30, 40]\n",
        "print(my_list[1])\n"
      ],
      "metadata": {
        "colab": {
          "base_uri": "https://localhost:8080/"
        },
        "id": "f0QdNUuK_jMv",
        "outputId": "07671fdd-ee17-4c5b-a55e-729ebdbc60b1"
      },
      "execution_count": null,
      "outputs": [
        {
          "output_type": "stream",
          "name": "stdout",
          "text": [
            "20\n"
          ]
        }
      ]
    },
    {
      "cell_type": "markdown",
      "source": [
        "-> 2. Mutable:-\n",
        "    Lists are mutable, meaning you can change, add, or remove elements after the list is created."
      ],
      "metadata": {
        "id": "ddQXvKjy_lu-"
      }
    },
    {
      "cell_type": "code",
      "source": [
        "my_list = [10, 20, 30]\n",
        "my_list[1] = 25\n",
        "print(my_list)"
      ],
      "metadata": {
        "colab": {
          "base_uri": "https://localhost:8080/"
        },
        "id": "Ka9X2JnN_vTf",
        "outputId": "ef43d916-6721-447d-f8cb-049a3ab8ddde"
      },
      "execution_count": null,
      "outputs": [
        {
          "output_type": "stream",
          "name": "stdout",
          "text": [
            "[10, 25, 30]\n"
          ]
        }
      ]
    },
    {
      "cell_type": "markdown",
      "source": [
        "-> 3. Heterogeneous Elements:-\n",
        "    Lists can store elements of different data types (integers, strings, floats, other lists, etc.)."
      ],
      "metadata": {
        "id": "Y-8h-pdq_y5f"
      }
    },
    {
      "cell_type": "code",
      "source": [
        "my_list = [1, \"hello\", 3.14, [1, 2, 3]]\n",
        "print(my_list)\n"
      ],
      "metadata": {
        "colab": {
          "base_uri": "https://localhost:8080/"
        },
        "id": "3RrdLV3I_9Cp",
        "outputId": "0117fcaa-5f8b-4be6-e100-cd56409e06db"
      },
      "execution_count": null,
      "outputs": [
        {
          "output_type": "stream",
          "name": "stdout",
          "text": [
            "[1, 'hello', 3.14, [1, 2, 3]]\n"
          ]
        }
      ]
    },
    {
      "cell_type": "markdown",
      "source": [
        "-> 5. Indexed and Accessible by Index:-\n",
        "    You can access individual elements using their index.\n",
        "    Lists support both positive and negative indexing, with negative indices counting from the end."
      ],
      "metadata": {
        "id": "MSgrGivKAHlx"
      }
    },
    {
      "cell_type": "code",
      "source": [
        "my_list = [10, 20, 30, 40]\n",
        "print(my_list[0])\n",
        "print(my_list[-1])\n"
      ],
      "metadata": {
        "colab": {
          "base_uri": "https://localhost:8080/"
        },
        "id": "v4K4TOAHAMvi",
        "outputId": "572d5c37-b6b0-4442-e7b5-18185fe32971"
      },
      "execution_count": null,
      "outputs": [
        {
          "output_type": "stream",
          "name": "stdout",
          "text": [
            "10\n",
            "40\n"
          ]
        }
      ]
    },
    {
      "cell_type": "markdown",
      "source": [
        "->6. Supports Various Operations:-\n",
        "    Lists support several built-in methods like append(), remove(), insert(), pop(), sort(), reverse(), etc."
      ],
      "metadata": {
        "id": "8RJNMozeAcf0"
      }
    },
    {
      "cell_type": "code",
      "source": [
        "my_list = [10, 20, 30, 40]\n",
        "\n",
        "my_list.append(5)\n",
        "print(my_list)\n",
        "\n",
        "my_list.remove(30)\n",
        "print(my_list)\n",
        "\n",
        "last_item = my_list.pop()\n",
        "print(last_item)\n",
        "print(my_list)\n"
      ],
      "metadata": {
        "colab": {
          "base_uri": "https://localhost:8080/"
        },
        "id": "MJNsryDSAhXM",
        "outputId": "d3d69e30-8122-4871-c581-c249a09695ea"
      },
      "execution_count": null,
      "outputs": [
        {
          "output_type": "stream",
          "name": "stdout",
          "text": [
            "[10, 20, 30, 40, 5]\n",
            "[10, 20, 40, 5]\n",
            "5\n",
            "[10, 20, 40]\n"
          ]
        }
      ]
    },
    {
      "cell_type": "markdown",
      "source": [
        "-> 7. List Comprehension:-\n",
        "    Lists can be created using list comprehensions, which offer a concise way to create and modify lists."
      ],
      "metadata": {
        "id": "EjPQnrF_BCFh"
      }
    },
    {
      "cell_type": "code",
      "source": [
        "squares = [x**2 for x in range(5)]\n",
        "print(squares)\n"
      ],
      "metadata": {
        "colab": {
          "base_uri": "https://localhost:8080/"
        },
        "id": "DuEv-IXbBINx",
        "outputId": "d7116a5b-0803-4ae1-be53-01bc956d88e1"
      },
      "execution_count": null,
      "outputs": [
        {
          "output_type": "stream",
          "name": "stdout",
          "text": [
            "[0, 1, 4, 9, 16]\n"
          ]
        }
      ]
    },
    {
      "cell_type": "markdown",
      "source": [
        "# Q-3) Describe how to access, modify, and delete elements in a list with\n",
        "      examples.\n",
        "\n",
        " Ans) In Python, you can access, modify, and delete elements of a list using  \n",
        "     various technique.\n",
        "\n",
        "-> 1. Accessing Elements in a List:-\n",
        "        \n",
        "    To access an element in a list, you use its index. Python lists are zero-indexed, meaning the first element has an index of 0, the second element has an index of 1, and so on.\n",
        "        "
      ],
      "metadata": {
        "id": "FYpyfSwlBhnF"
      }
    },
    {
      "cell_type": "code",
      "source": [
        "my_list = [10, 20, 30, 40, 50]\n",
        "print(my_list[0])\n",
        "print(my_list[2])\n"
      ],
      "metadata": {
        "colab": {
          "base_uri": "https://localhost:8080/"
        },
        "id": "cAzUsTtTQfHV",
        "outputId": "671e9de8-e36b-4b8c-f9f6-c9e20713f3c3"
      },
      "execution_count": 3,
      "outputs": [
        {
          "output_type": "stream",
          "name": "stdout",
          "text": [
            "10\n",
            "30\n"
          ]
        }
      ]
    },
    {
      "cell_type": "markdown",
      "source": [
        "-> 2. Modifying Elements in a List:-\n",
        "\n",
        "   To modify an element in a list, you assign a new value to a specific index.\n",
        "\n",
        "\n"
      ],
      "metadata": {
        "id": "YNbWsmQWQnA1"
      }
    },
    {
      "cell_type": "code",
      "source": [
        "my_list = [10, 20, 30, 40, 50]\n",
        "my_list[1] = 25\n",
        "print(my_list)\n"
      ],
      "metadata": {
        "colab": {
          "base_uri": "https://localhost:8080/"
        },
        "id": "3oQ_K_9BQxZG",
        "outputId": "6a620d81-e72f-4fb7-ef20-55348510380e"
      },
      "execution_count": 2,
      "outputs": [
        {
          "output_type": "stream",
          "name": "stdout",
          "text": [
            "[10, 25, 30, 40, 50]\n"
          ]
        }
      ]
    },
    {
      "cell_type": "markdown",
      "source": [
        "-> 3. Deleting Elements from a List:-\n",
        "\n",
        "  There are several ways to delete elements from a list:"
      ],
      "metadata": {
        "id": "aOarRsRTQ2hn"
      }
    },
    {
      "cell_type": "code",
      "source": [
        "my_list = [10, 20, 30, 40, 50]\n",
        "del my_list[1]\n",
        "print(my_list)\n",
        "\n",
        "# Deleting a slice\n",
        "del my_list[1:3]\n",
        "print(my_list)\n"
      ],
      "metadata": {
        "colab": {
          "base_uri": "https://localhost:8080/"
        },
        "id": "ziWtoYP2RCyB",
        "outputId": "5a05712a-67ab-44b7-a2fb-9397c4623f83"
      },
      "execution_count": 1,
      "outputs": [
        {
          "output_type": "stream",
          "name": "stdout",
          "text": [
            "[10, 30, 40, 50]\n",
            "[10, 50]\n"
          ]
        }
      ]
    },
    {
      "cell_type": "code",
      "source": [
        "# List\n",
        "my_list = [\"apple\", \"banana\", \"cherry\", \"date\"]\n",
        "\n",
        "# Deleting an element by index\n",
        "del my_list[2]  # Deletes the third element (cherry)\n",
        "print(my_list)\n",
        "\n",
        "# Deleting by value\n",
        "my_list.remove(\"banana\")  # Removes the first occurrence of \"banana\"\n",
        "print(my_list)\n",
        "\n",
        "# Using pop() to remove the last element\n",
        "removed_element = my_list.pop()  # Removes and returns \"date\"\n",
        "print(removed_element)\n",
        "print(my_list)\n",
        "\n",
        "# Clearing the list\n",
        "my_list.clear()\n",
        "print(my_list)\n"
      ],
      "metadata": {
        "colab": {
          "base_uri": "https://localhost:8080/"
        },
        "id": "AHVgeLqeR3ng",
        "outputId": "55c2280e-b7be-4236-8a6c-7858239d4f74"
      },
      "execution_count": 4,
      "outputs": [
        {
          "output_type": "stream",
          "name": "stdout",
          "text": [
            "['apple', 'banana', 'date']\n",
            "['apple', 'date']\n",
            "date\n",
            "['apple']\n",
            "[]\n"
          ]
        }
      ]
    },
    {
      "cell_type": "markdown",
      "source": [
        "# Q-4) Compare and contrast tuples and lists with examples.\n",
        "\n",
        "Ans)\n",
        "    Tuples and lists are both built-in data structures in Python used to store collections of items.\n",
        "    \n",
        "->  However, they have several differences in terms of functionality,\n",
        "   mutability, use cases, and more.\n",
        "\n",
        "\n",
        "1. Mutability:-\n",
        "\n",
        "-> Lists are mutable, which means you can change their content (add, remove, or\n",
        "   modify elements) after they are created.\n",
        "\n",
        "-> Tuples are immutable, meaning once a tuple is created, it cannot be modified.\n",
        "\n",
        "\n"
      ],
      "metadata": {
        "id": "TyFhkkIcSDGR"
      }
    },
    {
      "cell_type": "code",
      "source": [
        "# List (mutable)\n",
        "my_list = [1, 2, 3]\n",
        "my_list[1] = 20  # Modifying the second element\n",
        "print(my_list)  # Output: [1, 20, 3]\n",
        "\n",
        "# Tuple (immutable)\n",
        "my_tuple = (1, 2, 3)\n",
        "# my_tuple[1] = 20  # This will raise a TypeError"
      ],
      "metadata": {
        "colab": {
          "base_uri": "https://localhost:8080/"
        },
        "id": "VcEv1SDEU7w5",
        "outputId": "551bf2cf-b6dd-4fca-badd-781dd320144e"
      },
      "execution_count": 5,
      "outputs": [
        {
          "output_type": "stream",
          "name": "stdout",
          "text": [
            "[1, 20, 3]\n"
          ]
        }
      ]
    },
    {
      "cell_type": "markdown",
      "source": [
        "\n",
        "2. Syntax and Creation:-\n",
        "\n",
        " -> Lists are defined using square brackets [].\n",
        "\n",
        " -> Tuples are defined using parentheses () or without any delimiters for simple cases, but commas are required to distinguish them from mathematical expressions."
      ],
      "metadata": {
        "id": "LzWgSI_HU85w"
      }
    },
    {
      "cell_type": "code",
      "source": [
        "# Creating a list\n",
        "my_list = [1, 2, 3, 4]\n",
        "\n",
        "# Creating a tuple\n",
        "my_tuple = (1, 2, 3, 4)\n",
        "# or without parentheses\n",
        "my_tuple_2 = 1, 2, 3, 4  # Still a tuple\n"
      ],
      "metadata": {
        "id": "Y60uXcrpVNgb"
      },
      "execution_count": 6,
      "outputs": []
    },
    {
      "cell_type": "markdown",
      "source": [
        "\n",
        "3. Use Cases:-\n",
        "\n",
        "-> Lists are used when you need a collection of items that can change  \n",
        "   throughout the program.\n",
        "-> Tuples are used when you need a collection of items that should remain\n",
        "   constant (e.g., coordinates, configuration values)."
      ],
      "metadata": {
        "id": "_d6N0BVqVSYL"
      }
    },
    {
      "cell_type": "code",
      "source": [
        "\n",
        "# Example use case for a list (shopping cart items)\n",
        "shopping_cart = [\"apple\", \"banana\", \"cherry\"]\n",
        "shopping_cart.append(\"date\")  # Adding an item\n",
        "print(shopping_cart)\n",
        "\n",
        "# Example use case for a tuple (coordinates)\n",
        "coordinates = (10.5, 20.7)\n",
        "# coordinates[0] = 11.0  # TypeError\n"
      ],
      "metadata": {
        "colab": {
          "base_uri": "https://localhost:8080/"
        },
        "id": "P4kECTmbVcp1",
        "outputId": "9420c80b-030c-45a6-a331-57757c663d8f"
      },
      "execution_count": 7,
      "outputs": [
        {
          "output_type": "stream",
          "name": "stdout",
          "text": [
            "['apple', 'banana', 'cherry', 'date']\n"
          ]
        }
      ]
    },
    {
      "cell_type": "markdown",
      "source": [
        "\n",
        "4. Performance:-\n",
        "\n",
        "  -> Tuples are generally faster than lists when it comes to operations like\n",
        "     iteration.\n",
        "  -> This is because tuples are immutable and thus optimized for read-only\n",
        "     operations.\n",
        "  -> Lists have more overhead due to their mutability."
      ],
      "metadata": {
        "id": "57E1ib2KVmKd"
      }
    },
    {
      "cell_type": "markdown",
      "source": [
        "\n",
        " 5. Methods:-\n",
        "\n",
        "  -> Lists have more built-in methods for modification, such as append\n",
        "     (), remove(), pop(), sort(), etc.\n",
        "  -> Tuples have only two main methods: count() and index()."
      ],
      "metadata": {
        "id": "QiB-G5LEV6Sy"
      }
    },
    {
      "cell_type": "code",
      "source": [
        "# List methods\n",
        "my_list = [1, 2, 3]\n",
        "my_list.append(4)\n",
        "print(my_list)  # Output: [1, 2, 3, 4]\n",
        "\n",
        "# Tuple methods\n",
        "my_tuple = (1, 2, 3, 2)\n",
        "print(my_tuple.count(2))\n",
        "print(my_tuple.index(3))\n"
      ],
      "metadata": {
        "colab": {
          "base_uri": "https://localhost:8080/"
        },
        "id": "xAvJ-WljWTuv",
        "outputId": "f0b34ef5-cc80-41c4-98c7-46616ad81717"
      },
      "execution_count": 8,
      "outputs": [
        {
          "output_type": "stream",
          "name": "stdout",
          "text": [
            "[1, 2, 3, 4]\n",
            "2\n",
            "2\n"
          ]
        }
      ]
    },
    {
      "cell_type": "markdown",
      "source": [
        "\n",
        "# Q-5) Describe the key features of sets and provide examples of their\n",
        "       use.\n",
        "\n",
        "Ans) Sets in Python are a built-in data structure that represents a\n",
        "     collection of unique and unordered elements.\n",
        "\n",
        "-> They are particularly useful for operations involving membership\n",
        "   checks, removing duplicates, and performing mathematical set operations like union, intersection, and difference.   \n",
        "\n",
        "\n",
        "** Key Features of Sets:\n",
        "\n",
        "* Unordered Collection:\n",
        "\n",
        "-> Sets do not maintain the order of elements. This means that the\n",
        "   items in a set may not appear in the order you added them."
      ],
      "metadata": {
        "id": "Q3ZsgMfZWYad"
      }
    },
    {
      "cell_type": "code",
      "source": [
        "my_set = {3, 1, 4, 2}\n",
        "print(my_set)\n"
      ],
      "metadata": {
        "colab": {
          "base_uri": "https://localhost:8080/"
        },
        "id": "-1V4VWdvYRLw",
        "outputId": "507a0632-2212-4eab-e7c3-b7b924634dc3"
      },
      "execution_count": 9,
      "outputs": [
        {
          "output_type": "stream",
          "name": "stdout",
          "text": [
            "{1, 2, 3, 4}\n"
          ]
        }
      ]
    },
    {
      "cell_type": "markdown",
      "source": [
        "\n",
        "* Unique Elements:\n",
        "\n",
        "-> Sets automatically remove duplicate elements. Each element in a set\n",
        "   must be unique"
      ],
      "metadata": {
        "id": "dIHirODsYV0C"
      }
    },
    {
      "cell_type": "code",
      "source": [
        "my_set = {1, 2, 2, 3, 4}\n",
        "print(my_set)\n"
      ],
      "metadata": {
        "colab": {
          "base_uri": "https://localhost:8080/"
        },
        "id": "rEjHqdyIYahK",
        "outputId": "43ebf91d-2f72-49dd-dbdf-928d0801b1cb"
      },
      "execution_count": 10,
      "outputs": [
        {
          "output_type": "stream",
          "name": "stdout",
          "text": [
            "{1, 2, 3, 4}\n"
          ]
        }
      ]
    },
    {
      "cell_type": "markdown",
      "source": [
        "\n",
        "* Mutable:\n",
        "\n",
        "-> Sets are mutable, meaning you can add or remove elements after the\n",
        "   set is created. However, the individual elements inside the set must be immutable (e.g., integers, strings, tuples).\n",
        "\n",
        "* No Indexing or Slicing:\n",
        "\n",
        "-> Since sets are unordered, you cannot access elements using an index or perform slicing like you can with lists."
      ],
      "metadata": {
        "id": "8hKQO8KIYh3z"
      }
    },
    {
      "cell_type": "markdown",
      "source": [
        "\n",
        "* Efficient Membership Testing:\n",
        "\n",
        "-> Checking if an item is in a set is very efficient, typically faster\n",
        "   than in lists due to the underlying hash table implementation."
      ],
      "metadata": {
        "id": "j6Hr9V6qY3he"
      }
    },
    {
      "cell_type": "code",
      "source": [
        "my_set = {1, 2, 3, 4, 5}\n",
        "print(3 in my_set)  # Output: True\n",
        "print(6 in my_set)  # Output: False\n"
      ],
      "metadata": {
        "id": "TvYPi7foZQ9B"
      },
      "execution_count": null,
      "outputs": []
    },
    {
      "cell_type": "markdown",
      "source": [
        "\n",
        "* Examples of Set Operations:\n"
      ],
      "metadata": {
        "id": "uC4qa8L_ZmDE"
      }
    },
    {
      "cell_type": "code",
      "source": [
        "# Using curly braces\n",
        "my_set = {1, 2, 3, 4}\n",
        "\n",
        "# Using the set() constructor (useful for creating empty sets)\n",
        "empty_set = set()\n",
        "\n",
        "my_set = {1, 2, 3}\n",
        "my_set.add(4)\n",
        "print(my_set)\n",
        "\n",
        "my_set = {1, 2, 3, 4}\n",
        "my_set.remove(3)  # Removes the element 3; raises KeyError if not found\n",
        "print(my_set)\n",
        "\n",
        "my_set.discard(5)  # Does nothing if the element is not found (no error)\n",
        "\n",
        "set1 = {1, 2, 3}\n",
        "set2 = {3, 4, 5}\n",
        "union_set = set1.union(set2)\n",
        "print(union_set)\n"
      ],
      "metadata": {
        "colab": {
          "base_uri": "https://localhost:8080/"
        },
        "id": "YdTxiCedZwRk",
        "outputId": "04755bcc-8188-4255-dfea-ecfa78e659bd"
      },
      "execution_count": 11,
      "outputs": [
        {
          "output_type": "stream",
          "name": "stdout",
          "text": [
            "{1, 2, 3, 4}\n",
            "{1, 2, 4}\n",
            "{1, 2, 3, 4, 5}\n"
          ]
        }
      ]
    },
    {
      "cell_type": "markdown",
      "source": [
        "\n",
        "# Q-6) Discuss the use cases of tuples and sets in Python\n",
        "       programming.\n",
        "\n",
        "Ans)\n",
        "\n",
        "* Use Cases of Tuples:-\n",
        "\n",
        "Immutable Data Storage:\n",
        "\n",
        "-> Tuples are used when you need to store a collection of items that\n",
        "  should not change during the program's execution.\n",
        "-> This immutability ensures that data cannot be modified, which is\n",
        "   ideal for fixed collections like configuration settings, coordinates, or constant values.\n",
        "\n",
        "* Returning Multiple Values from Functions:\n",
        "\n",
        "-> Functions often return multiple values using tuples, which allows\n",
        "   for easy unpacking of those values.   \n",
        "\n",
        "* Dictionary Keys:\n",
        "\n",
        "-> Tuples can be used as keys in dictionaries because they are\n",
        "   immutable.\n",
        "\n",
        "* Ensuring Data Integrity:\n",
        "\n",
        "-> When you want to protect a collection of data from being modified,\n",
        "   tuples provide a simple way to ensure that data remains unchanged throughout the program.\n"
      ],
      "metadata": {
        "id": "ZDQSiEFHaOeI"
      }
    },
    {
      "cell_type": "markdown",
      "source": [
        "** Use Cases of Sets in Python:\n",
        "\n",
        "* Removing Duplicates from a Collection:\n",
        "\n",
        "-> Sets automatically eliminate duplicate values, making them useful\n",
        "   for cleaning up lists."
      ],
      "metadata": {
        "id": "Q0zjfD3ZbzPb"
      }
    },
    {
      "cell_type": "code",
      "source": [
        "numbers = [1, 2, 2, 3, 4, 4, 5]\n",
        "unique_numbers = set(numbers)\n",
        "print(unique_numbers)\n"
      ],
      "metadata": {
        "colab": {
          "base_uri": "https://localhost:8080/"
        },
        "id": "jt3hOnxDcGId",
        "outputId": "0a033281-fc67-4966-e796-0c4d8b849f6a"
      },
      "execution_count": 13,
      "outputs": [
        {
          "output_type": "stream",
          "name": "stdout",
          "text": [
            "{1, 2, 3, 4, 5}\n"
          ]
        }
      ]
    },
    {
      "cell_type": "markdown",
      "source": [
        "\n",
        "* Membership Testing:\n",
        "\n",
        "-> Sets allow for fast membership testing due to their hash-based\n",
        "   implementation."
      ],
      "metadata": {
        "id": "i2HwudhycLNk"
      }
    },
    {
      "cell_type": "code",
      "source": [
        "valid_users = {\"alice\", \"bob\", \"charlie\"}\n",
        "print(\"bob\" in valid_users)\n"
      ],
      "metadata": {
        "colab": {
          "base_uri": "https://localhost:8080/"
        },
        "id": "a9qJVW8icTsW",
        "outputId": "d9c10152-2c83-4a8e-ba77-fa502deec0e7"
      },
      "execution_count": 12,
      "outputs": [
        {
          "output_type": "stream",
          "name": "stdout",
          "text": [
            "True\n"
          ]
        }
      ]
    },
    {
      "cell_type": "markdown",
      "source": [
        "\n",
        "* Mathematical Set Operations:\n",
        "\n",
        "-> Sets support operations such as union, intersection, and\n",
        "   difference, which are useful for tasks involving data comparison."
      ],
      "metadata": {
        "id": "CC4Of5Y0cZiX"
      }
    },
    {
      "cell_type": "code",
      "source": [
        "set_a = {1, 2, 3}\n",
        "set_b = {3, 4, 5}\n",
        "print(set_a.union(set_b))\n",
        "print(set_a.intersection(set_b))\n"
      ],
      "metadata": {
        "colab": {
          "base_uri": "https://localhost:8080/"
        },
        "id": "0NDwHJj8ce6v",
        "outputId": "f0ac52f0-6d2d-4af7-82ca-729cd30ae20e"
      },
      "execution_count": 14,
      "outputs": [
        {
          "output_type": "stream",
          "name": "stdout",
          "text": [
            "{1, 2, 3, 4, 5}\n",
            "{3}\n"
          ]
        }
      ]
    },
    {
      "cell_type": "markdown",
      "source": [
        "#Q-7) Describe how to add, modify, and delete items in a dictionary   \n",
        "      with examples.\n",
        "\n",
        "Ans)\n",
        "    Dictionaries in Python are mutable, which means we can add, modify, and delete items.\n",
        "\n",
        "1. Adding Items to a Dictionary:\n",
        "\n",
        "  To add a new key-value pair to a dictionary, you can use the assignment operator = with the key inside square brackets.      "
      ],
      "metadata": {
        "id": "sxXOPO7hcmLA"
      }
    },
    {
      "cell_type": "code",
      "source": [
        "# Initial dictionary\n",
        "student_grades = {\"Alok\": 85, \"Rudra\": 90}\n",
        "\n",
        "# Adding a new key-value pair\n",
        "student_grades[\"Raj\"] = 88\n",
        "print(student_grades)\n"
      ],
      "metadata": {
        "colab": {
          "base_uri": "https://localhost:8080/"
        },
        "id": "YzWVstKGdMk9",
        "outputId": "0986ab41-39c5-4374-a74b-f3c2e0ad25db"
      },
      "execution_count": 15,
      "outputs": [
        {
          "output_type": "stream",
          "name": "stdout",
          "text": [
            "{'Alok': 85, 'Rudra': 90, 'Raj': 88}\n"
          ]
        }
      ]
    },
    {
      "cell_type": "markdown",
      "source": [
        "\n",
        "2. Modifying Items in a Dictionary:\n",
        "\n",
        "-> To modify the value associated with an existing key, use the\n",
        "   assignment operator = with the key."
      ],
      "metadata": {
        "id": "PC_9l0p_dX-G"
      }
    },
    {
      "cell_type": "code",
      "source": [
        "# Initial dictionary\n",
        "student_grades = {\"Alok\": 85, \"Rudra\": 90, \"Raj\": 88}\n",
        "\n",
        "# Modifying the value for an existing key\n",
        "student_grades[\"Alok\"] = 95\n",
        "print(student_grades)\n"
      ],
      "metadata": {
        "colab": {
          "base_uri": "https://localhost:8080/"
        },
        "id": "TbgftckYdcAX",
        "outputId": "d549a9ac-9c3e-43da-cbdd-0e3e6cd5e8df"
      },
      "execution_count": 17,
      "outputs": [
        {
          "output_type": "stream",
          "name": "stdout",
          "text": [
            "{'Alok': 95, 'Rudra': 90, 'Raj': 88}\n"
          ]
        }
      ]
    },
    {
      "cell_type": "markdown",
      "source": [
        "3. Deleting Items from a Dictionary:\n",
        "\n",
        "-> There are several ways to delete items from a dictionary:\n",
        "\n",
        "-> Using del: Removes a specific key-value pair by key."
      ],
      "metadata": {
        "id": "GuhT4FAudrTR"
      }
    },
    {
      "cell_type": "code",
      "source": [
        "student_grades = {\"Alok\": 95, \"Rudra\": 90, \"Raj\": 88}\n",
        "del student_grades[\"Rudra\"]\n",
        "print(student_grades)\n"
      ],
      "metadata": {
        "colab": {
          "base_uri": "https://localhost:8080/"
        },
        "id": "6URp6e_ydzuM",
        "outputId": "51adfe71-ea01-4d52-ecc9-e72b70b21c32"
      },
      "execution_count": 18,
      "outputs": [
        {
          "output_type": "stream",
          "name": "stdout",
          "text": [
            "{'Alok': 95, 'Raj': 88}\n"
          ]
        }
      ]
    },
    {
      "cell_type": "markdown",
      "source": [
        "\n",
        "-> Using pop(): Removes the specified key and returns the value. If\n",
        "   the key is not found, it raises a KeyError, unless you provide a default value."
      ],
      "metadata": {
        "id": "mvwkh0B8d-V8"
      }
    },
    {
      "cell_type": "code",
      "source": [
        "\n",
        "student_grades = {\"Alice\": 95, \"Charlie\": 88}\n",
        "removed_grade = student_grades.pop(\"Alice\")\n",
        "print(student_grades)\n",
        "print(removed_grade)\n"
      ],
      "metadata": {
        "colab": {
          "base_uri": "https://localhost:8080/"
        },
        "id": "m6a8M8bWeEVs",
        "outputId": "87915eb4-500c-40ee-a2ad-97a8cb58c990"
      },
      "execution_count": 19,
      "outputs": [
        {
          "output_type": "stream",
          "name": "stdout",
          "text": [
            "{'Charlie': 88}\n",
            "95\n"
          ]
        }
      ]
    },
    {
      "cell_type": "markdown",
      "source": [
        "\n",
        "-> Using clear(): Removes all items from the dictionary."
      ],
      "metadata": {
        "id": "uqfqZA36eOxm"
      }
    },
    {
      "cell_type": "code",
      "source": [
        "student_grades = {\"Alice\": 95, \"Charlie\": 88}\n",
        "student_grades.clear()\n",
        "print(student_grades)\n"
      ],
      "metadata": {
        "colab": {
          "base_uri": "https://localhost:8080/"
        },
        "id": "VJ-XR4zYeXwX",
        "outputId": "d673f25f-f89b-45ee-fe0c-4962caab5290"
      },
      "execution_count": 20,
      "outputs": [
        {
          "output_type": "stream",
          "name": "stdout",
          "text": [
            "{}\n"
          ]
        }
      ]
    },
    {
      "cell_type": "markdown",
      "source": [
        "\n",
        "#Q-8)  Discuss the importance of dictionary keys being immutable and\n",
        "       provide example.\n",
        "\n",
        "Ans)\n",
        "* Importance of Dictionary Keys Being Immutable:-\n",
        "\n",
        "-> Dictionary keys must be immutable types, such as strings, numbers,\n",
        "   or tuples containing only immutable elements.\n",
        "   \n",
        "-> The reason for this is that dictionary keys must be hashable, which\n",
        "   means they must have a fixed hash value during their lifetime.\n"
      ],
      "metadata": {
        "id": "RlfWNqH8efOv"
      }
    },
    {
      "cell_type": "markdown",
      "source": [
        "Hash Table Integrity:\n",
        "\n",
        "-> Dictionaries rely on hashing to store and retrieve values\n",
        "   efficiently. When a key is added to a dictionary, Python calculates its hash value, which determines where the key-value pair is stored in the hash table.\n",
        "\n",
        "-> If a key were mutable and its content changed after being added to\n",
        "  the dictionary, the hash value would change. This would make it impossible to find the original location of the key-value pair, leading to data access issues.\n",
        "\n",
        "* Consistency and Reliability:\n",
        "\n",
        "-> Immutability ensures that a keys hash value stays the same\n",
        "   throughout its existence in the dictionary. This consistency allows Python to quickly locate and manage key-value pairs without risk of data corruption or lookup errors.\n",
        "\n",
        "* Performance:\n",
        "\n",
        "-> Immutable keys guarantee that the hash value remains constant,\n",
        "   enabling the dictionary to maintain high performance for operations such as lookups, insertions, and deletions. Mutable keys, if allowed, could degrade performance because Python would need to handle potential changes in hash values.\n",
        "\n",
        "* Avoiding Logical Errors:\n",
        "\n",
        "-> Using mutable types as keys could lead to subtle bugs and          unexpected behavior. For example, if a list were used as a key and its contents were modified, Python would not be able to find the key again using the modified list."
      ],
      "metadata": {
        "id": "DvSItS2mfiZK"
      }
    }
  ]
}